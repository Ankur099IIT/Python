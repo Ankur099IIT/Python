{
  "nbformat": 4,
  "nbformat_minor": 0,
  "metadata": {
    "colab": {
      "name": "Python ZTM by Andrei Udemy notes by me.ipynb",
      "provenance": [],
      "collapsed_sections": [],
      "authorship_tag": "ABX9TyP6ssWTQ24R37hnOPjmbO4L",
      "include_colab_link": true
    },
    "kernelspec": {
      "name": "python3",
      "display_name": "Python 3"
    },
    "language_info": {
      "name": "python"
    }
  },
  "cells": [
    {
      "cell_type": "markdown",
      "metadata": {
        "id": "view-in-github",
        "colab_type": "text"
      },
      "source": [
        "<a href=\"https://colab.research.google.com/github/Ankur099IIT/Python/blob/main/Python_ZTM_by_Andrei_Udemy_notes_by_me.ipynb\" target=\"_parent\"><img src=\"https://colab.research.google.com/assets/colab-badge.svg\" alt=\"Open In Colab\"/></a>"
      ]
    },
    {
      "cell_type": "markdown",
      "source": [
        "**Numbers**"
      ],
      "metadata": {
        "id": "yBDLXOusF5hI"
      }
    },
    {
      "cell_type": "code",
      "source": [
        "type(1)"
      ],
      "metadata": {
        "colab": {
          "base_uri": "https://localhost:8080/"
        },
        "id": "COPkVO5v4no1",
        "outputId": "0f1fc3a8-0268-40e8-b0cc-a4bf9f579093"
      },
      "execution_count": null,
      "outputs": [
        {
          "output_type": "execute_result",
          "data": {
            "text/plain": [
              "int"
            ]
          },
          "metadata": {},
          "execution_count": 1
        }
      ]
    },
    {
      "cell_type": "code",
      "source": [
        "type(1,2,3) ## we can't check multiple at a time. It will give an error"
      ],
      "metadata": {
        "colab": {
          "base_uri": "https://localhost:8080/",
          "height": 188
        },
        "id": "KWLt7p2TGL4V",
        "outputId": "472b46d0-4af1-4867-8165-d448599e4cd9"
      },
      "execution_count": null,
      "outputs": [
        {
          "output_type": "error",
          "ename": "TypeError",
          "evalue": "ignored",
          "traceback": [
            "\u001b[0;31m---------------------------------------------------------------------------\u001b[0m",
            "\u001b[0;31mTypeError\u001b[0m                                 Traceback (most recent call last)",
            "\u001b[0;32m<ipython-input-2-bc0d0636471d>\u001b[0m in \u001b[0;36m<module>\u001b[0;34m()\u001b[0m\n\u001b[0;32m----> 1\u001b[0;31m \u001b[0mtype\u001b[0m\u001b[0;34m(\u001b[0m\u001b[0;36m1\u001b[0m\u001b[0;34m,\u001b[0m\u001b[0;36m2\u001b[0m\u001b[0;34m,\u001b[0m\u001b[0;36m3\u001b[0m\u001b[0;34m)\u001b[0m \u001b[0;31m## we can't check multiple at a time. It will give an error\u001b[0m\u001b[0;34m\u001b[0m\u001b[0;34m\u001b[0m\u001b[0m\n\u001b[0m",
            "\u001b[0;31mTypeError\u001b[0m: type.__new__() argument 1 must be str, not int"
          ]
        }
      ]
    },
    {
      "cell_type": "code",
      "source": [
        "type(2.2), type(True)"
      ],
      "metadata": {
        "colab": {
          "base_uri": "https://localhost:8080/"
        },
        "id": "1xrILq3CF_Py",
        "outputId": "97c46127-5acf-40a0-e63b-34b4f41886b3"
      },
      "execution_count": null,
      "outputs": [
        {
          "output_type": "execute_result",
          "data": {
            "text/plain": [
              "(float, bool)"
            ]
          },
          "metadata": {},
          "execution_count": 3
        }
      ]
    },
    {
      "cell_type": "markdown",
      "source": [
        "**Arithmatic**"
      ],
      "metadata": {
        "id": "VXW_h2aDGoh7"
      }
    },
    {
      "cell_type": "code",
      "source": [
        "10/3, 10%3, 10//3 ## actual value, remainder, quotient but only integer respectively"
      ],
      "metadata": {
        "colab": {
          "base_uri": "https://localhost:8080/"
        },
        "id": "KTEIXn2CGckf",
        "outputId": "aa29b457-19a1-4a18-ccc0-37dfbe50434c"
      },
      "execution_count": null,
      "outputs": [
        {
          "output_type": "execute_result",
          "data": {
            "text/plain": [
              "(3.3333333333333335, 1, 3)"
            ]
          },
          "metadata": {},
          "execution_count": 4
        }
      ]
    },
    {
      "cell_type": "code",
      "source": [
        "10**2 ## power"
      ],
      "metadata": {
        "colab": {
          "base_uri": "https://localhost:8080/"
        },
        "id": "YkDZY4vgGyz_",
        "outputId": "6bae39f1-6d5f-425c-a62b-214c816dffa5"
      },
      "execution_count": null,
      "outputs": [
        {
          "output_type": "execute_result",
          "data": {
            "text/plain": [
              "100"
            ]
          },
          "metadata": {},
          "execution_count": 5
        }
      ]
    },
    {
      "cell_type": "markdown",
      "source": [
        "**Basic Functions**"
      ],
      "metadata": {
        "id": "c3PoMxlvHd-H"
      }
    },
    {
      "cell_type": "code",
      "source": [
        "pow(5,2), abs(-10), round(5.478678755, 3) # round to the nth digit"
      ],
      "metadata": {
        "colab": {
          "base_uri": "https://localhost:8080/"
        },
        "id": "LIIiX6GMHUc4",
        "outputId": "c795d2c8-cd07-4d66-e7a2-ae6c010ce9a9"
      },
      "execution_count": null,
      "outputs": [
        {
          "output_type": "execute_result",
          "data": {
            "text/plain": [
              "(25, 10, 5.479)"
            ]
          },
          "metadata": {},
          "execution_count": 6
        }
      ]
    },
    {
      "cell_type": "markdown",
      "source": [
        "**Converting strings to numbers**"
      ],
      "metadata": {
        "id": "VqAxvcy8IPxV"
      }
    },
    {
      "cell_type": "code",
      "source": [
        "age = input('what is your age? ') # input function create string data type"
      ],
      "metadata": {
        "colab": {
          "base_uri": "https://localhost:8080/"
        },
        "id": "Vo5LL-FRH1Mf",
        "outputId": "a8b51e67-f0b9-4109-c11b-f8534944137d"
      },
      "execution_count": null,
      "outputs": [
        {
          "name": "stdout",
          "output_type": "stream",
          "text": [
            "what is your age? 30\n"
          ]
        }
      ]
    },
    {
      "cell_type": "code",
      "source": [
        "type(age) "
      ],
      "metadata": {
        "colab": {
          "base_uri": "https://localhost:8080/"
        },
        "id": "lBBYYA6JIhVu",
        "outputId": "b526120b-d033-4590-b193-b8831013d290"
      },
      "execution_count": null,
      "outputs": [
        {
          "output_type": "execute_result",
          "data": {
            "text/plain": [
              "str"
            ]
          },
          "metadata": {},
          "execution_count": 8
        }
      ]
    },
    {
      "cell_type": "code",
      "source": [
        "age = int(age) # string converted into integer\n",
        "type(age) "
      ],
      "metadata": {
        "colab": {
          "base_uri": "https://localhost:8080/"
        },
        "id": "_Do4fnSAIo-y",
        "outputId": "c949feb8-968c-4d0e-9142-d71307582108"
      },
      "execution_count": null,
      "outputs": [
        {
          "output_type": "execute_result",
          "data": {
            "text/plain": [
              "int"
            ]
          },
          "metadata": {},
          "execution_count": 9
        }
      ]
    },
    {
      "cell_type": "code",
      "source": [
        "age = float(age) # now interger converted into float\n",
        "type(age)"
      ],
      "metadata": {
        "colab": {
          "base_uri": "https://localhost:8080/"
        },
        "id": "ehdXlVEDIy6q",
        "outputId": "a32e9363-7954-4c02-b573-b9e2c4e73c52"
      },
      "execution_count": null,
      "outputs": [
        {
          "output_type": "execute_result",
          "data": {
            "text/plain": [
              "float"
            ]
          },
          "metadata": {},
          "execution_count": 10
        }
      ]
    },
    {
      "cell_type": "markdown",
      "source": [
        "**Strings**"
      ],
      "metadata": {
        "id": "Zc-fPDYIJP69"
      }
    },
    {
      "cell_type": "code",
      "source": [
        "type('Ankur Tiwari')"
      ],
      "metadata": {
        "colab": {
          "base_uri": "https://localhost:8080/"
        },
        "id": "blXAamG3JRqe",
        "outputId": "dd358d88-60b7-4043-f597-2856b32b172b"
      },
      "execution_count": null,
      "outputs": [
        {
          "output_type": "execute_result",
          "data": {
            "text/plain": [
              "str"
            ]
          },
          "metadata": {},
          "execution_count": 11
        }
      ]
    },
    {
      "cell_type": "code",
      "source": [
        "'I\\'m hungry' ## \\ after backslash everything is considered as string"
      ],
      "metadata": {
        "colab": {
          "base_uri": "https://localhost:8080/",
          "height": 57
        },
        "id": "MENN7VE1JDqh",
        "outputId": "07524ca2-d942-46c2-a297-aa66e4fff951"
      },
      "execution_count": null,
      "outputs": [
        {
          "output_type": "execute_result",
          "data": {
            "application/vnd.google.colaboratory.intrinsic+json": {
              "type": "string"
            },
            "text/plain": [
              "\"I'm hungry\""
            ]
          },
          "metadata": {},
          "execution_count": 12
        }
      ]
    },
    {
      "cell_type": "code",
      "source": [
        "rand_str = \"I am working in bla bla company.\\nI work as an \\n\\tAssistant Manager\" ## \\n for the new line \n",
        "                                                                                  ## and \\t for the tab\n",
        "print(rand_str)"
      ],
      "metadata": {
        "colab": {
          "base_uri": "https://localhost:8080/"
        },
        "id": "T3VNEl_RLPry",
        "outputId": "65fea0df-0206-46ee-e3bb-d146b3ef72f3"
      },
      "execution_count": null,
      "outputs": [
        {
          "output_type": "stream",
          "name": "stdout",
          "text": [
            "I am working in bla bla company.\n",
            "I work as an \n",
            "\tAssistant Manager\n"
          ]
        }
      ]
    },
    {
      "cell_type": "code",
      "source": [
        "intro = 'hello, I\\'m an Engineer.\\nAlso I\\'ve done my masters' ## new line will reflect in print command.\n",
        "print(intro)"
      ],
      "metadata": {
        "colab": {
          "base_uri": "https://localhost:8080/"
        },
        "id": "cOOWlszhJMMo",
        "outputId": "c6d16348-8e12-460b-ab96-ee66fa7bc003"
      },
      "execution_count": null,
      "outputs": [
        {
          "output_type": "stream",
          "name": "stdout",
          "text": [
            "hello, I'm an Engineer.\n",
            "Also I've done my masters\n"
          ]
        }
      ]
    },
    {
      "cell_type": "code",
      "source": [
        "name = 'Ankur Tiwari'\n",
        "name[:], name[0:5], name[6:12], name[0::2], name[::-1], name[::-2], name[-8:-13:-1], name[-1:-7:-1] \n",
        "## slicing has the format [start index, end index, step(positive or negative give the direction to move for ex: -1 for the reverse)] \n",
        "## where default step = 1 and step=2 for alternate letter"
      ],
      "metadata": {
        "colab": {
          "base_uri": "https://localhost:8080/"
        },
        "id": "Fsd-7L7YJ6V6",
        "outputId": "42527929-40a0-4639-aba6-12d29eaa2216"
      },
      "execution_count": null,
      "outputs": [
        {
          "output_type": "execute_result",
          "data": {
            "text/plain": [
              "('Ankur Tiwari',\n",
              " 'Ankur',\n",
              " 'Tiwari',\n",
              " 'AkrTwr',\n",
              " 'irawiT ruknA',\n",
              " 'iai un',\n",
              " 'ruknA',\n",
              " 'irawiT')"
            ]
          },
          "metadata": {},
          "execution_count": 15
        }
      ]
    },
    {
      "cell_type": "code",
      "source": [
        "str_concatenation = 'Hi Ankur, ' + 'you have two laptops. ' + '\\nOne macbook and other one is hp pavilion.'\n",
        "print(str_concatenation)"
      ],
      "metadata": {
        "colab": {
          "base_uri": "https://localhost:8080/"
        },
        "id": "wduJDlqANCnO",
        "outputId": "2d09bc88-ac19-4c8b-bb2e-baa2175b50d5"
      },
      "execution_count": null,
      "outputs": [
        {
          "output_type": "stream",
          "name": "stdout",
          "text": [
            "Hi Ankur, you have two laptops. \n",
            "One macbook and other one is hp pavilion.\n"
          ]
        }
      ]
    },
    {
      "cell_type": "markdown",
      "source": [
        "Basic **Functions**"
      ],
      "metadata": {
        "id": "CVUE_QTtRDQl"
      }
    },
    {
      "cell_type": "code",
      "source": [
        "name = '      I am Ankur Tiwari '\n",
        "print(name), len(name) ## len() also counts the spaces between the inverted colon also"
      ],
      "metadata": {
        "colab": {
          "base_uri": "https://localhost:8080/"
        },
        "id": "6540OV_gQ3YT",
        "outputId": "37500a5e-c018-4625-9bbf-1dfc7bb84054"
      },
      "execution_count": null,
      "outputs": [
        {
          "output_type": "stream",
          "name": "stdout",
          "text": [
            "      I am Ankur Tiwari \n"
          ]
        },
        {
          "output_type": "execute_result",
          "data": {
            "text/plain": [
              "(None, 24)"
            ]
          },
          "metadata": {},
          "execution_count": 17
        }
      ]
    },
    {
      "cell_type": "code",
      "source": [
        "'i' in name"
      ],
      "metadata": {
        "colab": {
          "base_uri": "https://localhost:8080/"
        },
        "id": "V-m4JIUNRiWF",
        "outputId": "88ae71a2-3fe2-4d76-c3d1-8783317ac833"
      },
      "execution_count": null,
      "outputs": [
        {
          "output_type": "execute_result",
          "data": {
            "text/plain": [
              "True"
            ]
          },
          "metadata": {},
          "execution_count": 18
        }
      ]
    },
    {
      "cell_type": "code",
      "source": [
        "name, name[0] = 'U' ## Error because Strings are immutable"
      ],
      "metadata": {
        "colab": {
          "base_uri": "https://localhost:8080/",
          "height": 188
        },
        "id": "svK9EkC9bDWh",
        "outputId": "837cb92b-4643-4401-b3b5-f30e3e385c14"
      },
      "execution_count": null,
      "outputs": [
        {
          "output_type": "error",
          "ename": "ValueError",
          "evalue": "ignored",
          "traceback": [
            "\u001b[0;31m---------------------------------------------------------------------------\u001b[0m",
            "\u001b[0;31mValueError\u001b[0m                                Traceback (most recent call last)",
            "\u001b[0;32m<ipython-input-19-ec9efac922a6>\u001b[0m in \u001b[0;36m<module>\u001b[0;34m()\u001b[0m\n\u001b[0;32m----> 1\u001b[0;31m \u001b[0mname\u001b[0m\u001b[0;34m,\u001b[0m \u001b[0mname\u001b[0m\u001b[0;34m[\u001b[0m\u001b[0;36m0\u001b[0m\u001b[0;34m]\u001b[0m \u001b[0;34m=\u001b[0m \u001b[0;34m'U'\u001b[0m \u001b[0;31m## Error because Strings are immutable\u001b[0m\u001b[0;34m\u001b[0m\u001b[0;34m\u001b[0m\u001b[0m\n\u001b[0m",
            "\u001b[0;31mValueError\u001b[0m: not enough values to unpack (expected 2, got 1)"
          ]
        }
      ]
    },
    {
      "cell_type": "code",
      "source": [
        "name  = name.strip() ## strips all the whitespaces from both end\n",
        "print(name)"
      ],
      "metadata": {
        "colab": {
          "base_uri": "https://localhost:8080/"
        },
        "id": "BJvrxFJTRoEh",
        "outputId": "448e6ccd-3a60-49a7-f132-0ba6cf8b7723"
      },
      "execution_count": null,
      "outputs": [
        {
          "output_type": "stream",
          "name": "stdout",
          "text": [
            "I am Ankur Tiwari\n"
          ]
        }
      ]
    },
    {
      "cell_type": "code",
      "source": [
        "name.strip(\"ir\") # strips all the passed characters from both end"
      ],
      "metadata": {
        "colab": {
          "base_uri": "https://localhost:8080/",
          "height": 57
        },
        "id": "GlWzB-nESEgM",
        "outputId": "6519e519-a4f5-4054-9254-81a2b8dc95e2"
      },
      "execution_count": null,
      "outputs": [
        {
          "output_type": "execute_result",
          "data": {
            "application/vnd.google.colaboratory.intrinsic+json": {
              "type": "string"
            },
            "text/plain": [
              "'I am Ankur Tiwa'"
            ]
          },
          "metadata": {},
          "execution_count": 21
        }
      ]
    },
    {
      "cell_type": "code",
      "source": [
        "name"
      ],
      "metadata": {
        "colab": {
          "base_uri": "https://localhost:8080/",
          "height": 57
        },
        "id": "AD8LfD_lS7l-",
        "outputId": "09693011-1a1f-4b92-a2b1-979d9cf9ae70"
      },
      "execution_count": null,
      "outputs": [
        {
          "output_type": "execute_result",
          "data": {
            "application/vnd.google.colaboratory.intrinsic+json": {
              "type": "string"
            },
            "text/plain": [
              "'I am Ankur Tiwari'"
            ]
          },
          "metadata": {},
          "execution_count": 22
        }
      ]
    },
    {
      "cell_type": "code",
      "source": [
        "name.split(), name # method in strings does not change the original string"
      ],
      "metadata": {
        "colab": {
          "base_uri": "https://localhost:8080/"
        },
        "id": "4nUlEfiqTZ9N",
        "outputId": "cca024af-2011-4aba-b610-caabc0f58e04"
      },
      "execution_count": null,
      "outputs": [
        {
          "output_type": "execute_result",
          "data": {
            "text/plain": [
              "(['I', 'am', 'Ankur', 'Tiwari'], 'I am Ankur Tiwari')"
            ]
          },
          "metadata": {},
          "execution_count": 23
        }
      ]
    },
    {
      "cell_type": "code",
      "source": [
        "name, name.replace('Tiwari', 'Dubey') # replaces first with second param"
      ],
      "metadata": {
        "colab": {
          "base_uri": "https://localhost:8080/"
        },
        "id": "o9EI-pfhTdYm",
        "outputId": "f6686f46-47b8-4273-bce7-cd96934f55db"
      },
      "execution_count": null,
      "outputs": [
        {
          "output_type": "execute_result",
          "data": {
            "text/plain": [
              "('I am Ankur Tiwari', 'I am Ankur Dubey')"
            ]
          },
          "metadata": {},
          "execution_count": 24
        }
      ]
    },
    {
      "cell_type": "code",
      "source": [
        "name, name.index('r') # gives the index of r"
      ],
      "metadata": {
        "colab": {
          "base_uri": "https://localhost:8080/"
        },
        "id": "SGZPniUrTvst",
        "outputId": "02ebef9e-7a48-4c23-d138-9d3aef8afa18"
      },
      "execution_count": null,
      "outputs": [
        {
          "output_type": "execute_result",
          "data": {
            "text/plain": [
              "('I am Ankur Tiwari', 9)"
            ]
          },
          "metadata": {},
          "execution_count": 25
        }
      ]
    },
    {
      "cell_type": "code",
      "source": [
        "name, name.upper(), name.lower(), name.capitalize()"
      ],
      "metadata": {
        "colab": {
          "base_uri": "https://localhost:8080/"
        },
        "id": "jrYa19UmUIM8",
        "outputId": "2495e815-8900-412e-86b5-84467d4981d7"
      },
      "execution_count": null,
      "outputs": [
        {
          "output_type": "execute_result",
          "data": {
            "text/plain": [
              "('I am Ankur Tiwari',\n",
              " 'I AM ANKUR TIWARI',\n",
              " 'i am ankur tiwari',\n",
              " 'I am ankur tiwari')"
            ]
          },
          "metadata": {},
          "execution_count": 26
        }
      ]
    },
    {
      "cell_type": "code",
      "source": [
        "name, name.count('i') #count the number of 'i'"
      ],
      "metadata": {
        "colab": {
          "base_uri": "https://localhost:8080/"
        },
        "id": "2Eg-LFzvUksK",
        "outputId": "c80b7b21-7dac-4460-a3a6-5bb21ce2736f"
      },
      "execution_count": null,
      "outputs": [
        {
          "output_type": "execute_result",
          "data": {
            "text/plain": [
              "('I am Ankur Tiwari', 2)"
            ]
          },
          "metadata": {},
          "execution_count": 27
        }
      ]
    },
    {
      "cell_type": "markdown",
      "source": [
        "String Formatting"
      ],
      "metadata": {
        "id": "CAr9_lRzVQL-"
      }
    },
    {
      "cell_type": "code",
      "source": [
        "first_name = 'Ankur'\n",
        "surname = 'Tiwari'\n",
        "\n",
        "print(f'Hello, I am {first_name} {surname}. I just logged in.') ## String formatting is used for \n",
        "                                                                ## creating multiple strings with variable strings"
      ],
      "metadata": {
        "colab": {
          "base_uri": "https://localhost:8080/"
        },
        "id": "POrNN7nyVBfv",
        "outputId": "c92ee68d-925e-4bbd-ebd2-1315b43ea3c3"
      },
      "execution_count": null,
      "outputs": [
        {
          "output_type": "stream",
          "name": "stdout",
          "text": [
            "Hello, I am Ankur Tiwari. I just logged in.\n"
          ]
        }
      ]
    },
    {
      "cell_type": "markdown",
      "source": [
        "⚓ ***Exercise 1: Palindrome Check***"
      ],
      "metadata": {
        "id": "vP1I4YClXCaH"
      }
    },
    {
      "cell_type": "code",
      "source": [
        "word = 'reviver'\n",
        "word_rev = word[::-1]\n",
        "print(word==word_rev)"
      ],
      "metadata": {
        "colab": {
          "base_uri": "https://localhost:8080/"
        },
        "id": "fxBNSYwHWS6b",
        "outputId": "146160c5-80b6-4d2a-c484-0391fb521798"
      },
      "execution_count": null,
      "outputs": [
        {
          "output_type": "stream",
          "name": "stdout",
          "text": [
            "True\n"
          ]
        }
      ]
    },
    {
      "cell_type": "markdown",
      "source": [
        "Boolean"
      ],
      "metadata": {
        "id": "qbghmJ4JZKQg"
      }
    },
    {
      "cell_type": "markdown",
      "source": [
        "True or False. Used in a lot of comparison and logical operations"
      ],
      "metadata": {
        "id": "uBhsjm2vZbVc"
      }
    },
    {
      "cell_type": "code",
      "source": [
        "bool(True), bool(False), bool(''), bool([]), bool({}), bool(()), bool(set()), bool(range(0)), bool(0), bool(0.0), bool(None)\n",
        "## that means 0, 0.0, empty string, list, dict, tuble, set, range when pass through bool() result in False"
      ],
      "metadata": {
        "colab": {
          "base_uri": "https://localhost:8080/"
        },
        "id": "sBucQHmIZMRr",
        "outputId": "31b68c7d-914d-4863-8783-a9be144ba48f"
      },
      "execution_count": null,
      "outputs": [
        {
          "output_type": "execute_result",
          "data": {
            "text/plain": [
              "(True, False, False, False, False, False, False, False, False, False, False)"
            ]
          },
          "metadata": {},
          "execution_count": 30
        }
      ]
    },
    {
      "cell_type": "markdown",
      "source": [
        "**Lists**"
      ],
      "metadata": {
        "id": "xI2B0Mcua1GI"
      }
    },
    {
      "cell_type": "markdown",
      "source": [
        "Lists are mutable sequences unlike strings"
      ],
      "metadata": {
        "id": "ndBziUnba6xW"
      }
    },
    {
      "cell_type": "code",
      "source": [
        "my_list = [1, 2 , 3, 'Ankur', True, 3, 5, 5]\n",
        "len(my_list), my_list.index('Ankur'), my_list.count(5), my_list[5], my_list[0:6:2], my_list[-1:-8:-1] \n",
        "\n",
        "## list slicing similar to string slicing"
      ],
      "metadata": {
        "colab": {
          "base_uri": "https://localhost:8080/"
        },
        "id": "X613ov_LZxqD",
        "outputId": "c132bf64-7bc4-4c20-a671-1164d9857aa6"
      },
      "execution_count": null,
      "outputs": [
        {
          "output_type": "execute_result",
          "data": {
            "text/plain": [
              "(8, 3, 2, 3, [1, 3, True], [5, 5, 3, True, 'Ankur', 3, 2])"
            ]
          },
          "metadata": {},
          "execution_count": 31
        }
      ]
    },
    {
      "cell_type": "markdown",
      "source": [
        "**Add to List**"
      ],
      "metadata": {
        "id": "ic8hCorXdqpX"
      }
    },
    {
      "cell_type": "code",
      "source": [
        "my_list * 2 ## multiply is possible with integer only"
      ],
      "metadata": {
        "colab": {
          "base_uri": "https://localhost:8080/"
        },
        "id": "5fGqkIAddu0r",
        "outputId": "b247933d-0a63-470d-977e-7d6b72c4c717"
      },
      "execution_count": null,
      "outputs": [
        {
          "output_type": "execute_result",
          "data": {
            "text/plain": [
              "[1, 2, 3, 'Ankur', True, 3, 5, 5, 1, 2, 3, 'Ankur', True, 3, 5, 5]"
            ]
          },
          "metadata": {},
          "execution_count": 32
        }
      ]
    },
    {
      "cell_type": "code",
      "source": [
        "my_list + [2000], my_list ## addition is possible with list only. subtraction and division doesnot work with lists."
      ],
      "metadata": {
        "colab": {
          "base_uri": "https://localhost:8080/"
        },
        "id": "xvWPsSS2d5s_",
        "outputId": "81b817c0-01d6-4620-e4cb-20ab324c6ef8"
      },
      "execution_count": null,
      "outputs": [
        {
          "output_type": "execute_result",
          "data": {
            "text/plain": [
              "([1, 2, 3, 'Ankur', True, 3, 5, 5, 2000], [1, 2, 3, 'Ankur', True, 3, 5, 5])"
            ]
          },
          "metadata": {},
          "execution_count": 33
        }
      ]
    },
    {
      "cell_type": "code",
      "source": [
        " my_list"
      ],
      "metadata": {
        "colab": {
          "base_uri": "https://localhost:8080/"
        },
        "id": "hykITK0yfF1o",
        "outputId": "7fc76ce5-5d19-44aa-ff76-ab461423526c"
      },
      "execution_count": null,
      "outputs": [
        {
          "output_type": "execute_result",
          "data": {
            "text/plain": [
              "[1, 2, 3, 'Ankur', True, 3, 5, 5]"
            ]
          },
          "metadata": {},
          "execution_count": 34
        }
      ]
    },
    {
      "cell_type": "code",
      "source": [
        "my_list"
      ],
      "metadata": {
        "colab": {
          "base_uri": "https://localhost:8080/"
        },
        "id": "7e6LXyY9gy2s",
        "outputId": "5ba55de7-f3ad-4d25-c06d-1acb30d8c0eb"
      },
      "execution_count": null,
      "outputs": [
        {
          "output_type": "execute_result",
          "data": {
            "text/plain": [
              "[1, 2, 3, 'Ankur', True, 3, 5, 5]"
            ]
          },
          "metadata": {},
          "execution_count": 35
        }
      ]
    },
    {
      "cell_type": "code",
      "source": [
        "my_list.append(500) ## mutates the actual list"
      ],
      "metadata": {
        "id": "FrIFI1D4g1IC"
      },
      "execution_count": null,
      "outputs": []
    },
    {
      "cell_type": "code",
      "source": [
        "print(my_list)"
      ],
      "metadata": {
        "colab": {
          "base_uri": "https://localhost:8080/"
        },
        "id": "tN5fHFeTg9gQ",
        "outputId": "54bdeb2f-aa9d-4c6c-be0d-a6fe5021b723"
      },
      "execution_count": null,
      "outputs": [
        {
          "output_type": "stream",
          "name": "stdout",
          "text": [
            "[1, 2, 3, 'Ankur', True, 3, 5, 5, 500]\n"
          ]
        }
      ]
    },
    {
      "cell_type": "code",
      "source": [
        "my_list.extend(['Anmol', False, [8,9]]) ## Mutates the list"
      ],
      "metadata": {
        "id": "FYHHbKdRhBKj"
      },
      "execution_count": null,
      "outputs": []
    },
    {
      "cell_type": "code",
      "source": [
        "print(my_list)"
      ],
      "metadata": {
        "colab": {
          "base_uri": "https://localhost:8080/"
        },
        "id": "eYcBPSyYhioK",
        "outputId": "641e3c9e-d570-4651-8782-5cd842e1db57"
      },
      "execution_count": null,
      "outputs": [
        {
          "output_type": "stream",
          "name": "stdout",
          "text": [
            "[1, 2, 3, 'Ankur', True, 3, 5, 5, 500, 'Anmol', False, [8, 9]]\n"
          ]
        }
      ]
    },
    {
      "cell_type": "code",
      "source": [
        "my_list.insert(4, 'Tiwari') ## Mutates the list . takes two param (index at which the item to be place, item itself)"
      ],
      "metadata": {
        "id": "7fUJsE-ehlT3"
      },
      "execution_count": null,
      "outputs": []
    },
    {
      "cell_type": "code",
      "source": [
        "print(my_list)"
      ],
      "metadata": {
        "colab": {
          "base_uri": "https://localhost:8080/"
        },
        "id": "peppHbsVjLCx",
        "outputId": "018a7bda-9030-47ad-e68d-0de96f14ad13"
      },
      "execution_count": null,
      "outputs": [
        {
          "output_type": "stream",
          "name": "stdout",
          "text": [
            "[1, 2, 3, 'Ankur', 'Tiwari', True, 3, 5, 5, 500, 'Anmol', False, [8, 9]]\n"
          ]
        }
      ]
    },
    {
      "cell_type": "markdown",
      "source": [
        "*Important Concept- Copy a List*"
      ],
      "metadata": {
        "id": "AhoAM8BAjKQz"
      }
    },
    {
      "cell_type": "code",
      "source": [
        "basket = ['Apple', 'Orange', 'Banana']\n",
        "new_basket = basket.copy()\n",
        "new_basket2 = basket[:]\n",
        "print(new_basket)\n",
        "print(new_basket2)"
      ],
      "metadata": {
        "colab": {
          "base_uri": "https://localhost:8080/"
        },
        "id": "Owllj-3Tjdx9",
        "outputId": "7b02a7db-2f12-4937-9c2d-15a07f79b1e7"
      },
      "execution_count": null,
      "outputs": [
        {
          "output_type": "stream",
          "name": "stdout",
          "text": [
            "['Apple', 'Orange', 'Banana']\n",
            "['Apple', 'Orange', 'Banana']\n"
          ]
        }
      ]
    },
    {
      "cell_type": "code",
      "source": [
        "List = [1, 2, 3, 4, 5]\n",
        "List.pop() # mutates original list"
      ],
      "metadata": {
        "colab": {
          "base_uri": "https://localhost:8080/"
        },
        "id": "Owrh_4nfkCSO",
        "outputId": "37e62610-7022-4210-be09-e91a856764c5"
      },
      "execution_count": null,
      "outputs": [
        {
          "output_type": "execute_result",
          "data": {
            "text/plain": [
              "5"
            ]
          },
          "metadata": {},
          "execution_count": 43
        }
      ]
    },
    {
      "cell_type": "code",
      "source": [
        "List.pop()"
      ],
      "metadata": {
        "colab": {
          "base_uri": "https://localhost:8080/"
        },
        "id": "4sKa1rg704Js",
        "outputId": "5b48194e-46bb-4cef-cf56-c0d3c674b853"
      },
      "execution_count": null,
      "outputs": [
        {
          "output_type": "execute_result",
          "data": {
            "text/plain": [
              "4"
            ]
          },
          "metadata": {},
          "execution_count": 44
        }
      ]
    },
    {
      "cell_type": "code",
      "source": [
        "List.pop(), print(List)"
      ],
      "metadata": {
        "colab": {
          "base_uri": "https://localhost:8080/"
        },
        "id": "gkDuIQQL0-kR",
        "outputId": "a8dba3dc-5e8e-40e4-ad44-edea2078140f"
      },
      "execution_count": null,
      "outputs": [
        {
          "output_type": "stream",
          "name": "stdout",
          "text": [
            "[1, 2]\n"
          ]
        },
        {
          "output_type": "execute_result",
          "data": {
            "text/plain": [
              "(3, None)"
            ]
          },
          "metadata": {},
          "execution_count": 45
        }
      ]
    },
    {
      "cell_type": "code",
      "source": [
        "List"
      ],
      "metadata": {
        "colab": {
          "base_uri": "https://localhost:8080/"
        },
        "id": "Sw8g41T91nhm",
        "outputId": "973b6a24-04cf-4116-e8d8-0d4614cef975"
      },
      "execution_count": null,
      "outputs": [
        {
          "output_type": "execute_result",
          "data": {
            "text/plain": [
              "[1, 2]"
            ]
          },
          "metadata": {},
          "execution_count": 46
        }
      ]
    },
    {
      "cell_type": "code",
      "source": [
        "List.extend([2,3,4,5])"
      ],
      "metadata": {
        "id": "XajeFAMW2HV_"
      },
      "execution_count": null,
      "outputs": []
    },
    {
      "cell_type": "code",
      "source": [
        "List"
      ],
      "metadata": {
        "colab": {
          "base_uri": "https://localhost:8080/"
        },
        "id": "G8zBOqPh2QVR",
        "outputId": "990a5869-2c64-4e95-b261-520971973b5b"
      },
      "execution_count": null,
      "outputs": [
        {
          "output_type": "execute_result",
          "data": {
            "text/plain": [
              "[1, 2, 2, 3, 4, 5]"
            ]
          },
          "metadata": {},
          "execution_count": 48
        }
      ]
    },
    {
      "cell_type": "code",
      "source": [
        "List.clear()"
      ],
      "metadata": {
        "id": "z7U9R5RA2ReE"
      },
      "execution_count": null,
      "outputs": []
    },
    {
      "cell_type": "code",
      "source": [
        "List"
      ],
      "metadata": {
        "colab": {
          "base_uri": "https://localhost:8080/"
        },
        "id": "-34U2W8h2YOr",
        "outputId": "606dd7a0-2b1b-4d08-f777-470df79a7c0f"
      },
      "execution_count": null,
      "outputs": [
        {
          "output_type": "execute_result",
          "data": {
            "text/plain": [
              "[]"
            ]
          },
          "metadata": {},
          "execution_count": 50
        }
      ]
    },
    {
      "cell_type": "markdown",
      "source": [
        "Ordering"
      ],
      "metadata": {
        "id": "ZjjB0Pbl2huv"
      }
    },
    {
      "cell_type": "code",
      "source": [
        "List.extend([1,2,3,4,5,6,7,8])\n",
        "List"
      ],
      "metadata": {
        "colab": {
          "base_uri": "https://localhost:8080/"
        },
        "id": "--tkvfYY2kOh",
        "outputId": "e70b75c7-6700-4494-d348-2dc4b9491182"
      },
      "execution_count": null,
      "outputs": [
        {
          "output_type": "execute_result",
          "data": {
            "text/plain": [
              "[1, 2, 3, 4, 5, 6, 7, 8]"
            ]
          },
          "metadata": {},
          "execution_count": 51
        }
      ]
    },
    {
      "cell_type": "code",
      "source": [
        "print(List.sort(reverse=True))"
      ],
      "metadata": {
        "colab": {
          "base_uri": "https://localhost:8080/"
        },
        "id": "z1w38kmw26ic",
        "outputId": "76e6eb81-cb12-486b-e04e-df4ff82ff7fb"
      },
      "execution_count": null,
      "outputs": [
        {
          "output_type": "stream",
          "name": "stdout",
          "text": [
            "None\n"
          ]
        }
      ]
    },
    {
      "cell_type": "code",
      "source": [
        "List"
      ],
      "metadata": {
        "colab": {
          "base_uri": "https://localhost:8080/"
        },
        "id": "kI3YiHPt2_N6",
        "outputId": "4d6d3c98-8b7d-42a9-ec76-ec3d90545a89"
      },
      "execution_count": null,
      "outputs": [
        {
          "output_type": "execute_result",
          "data": {
            "text/plain": [
              "[8, 7, 6, 5, 4, 3, 2, 1]"
            ]
          },
          "metadata": {},
          "execution_count": 53
        }
      ]
    },
    {
      "cell_type": "code",
      "source": [
        "max(List), min(List), sum(List)"
      ],
      "metadata": {
        "colab": {
          "base_uri": "https://localhost:8080/"
        },
        "id": "-W5BE3663MhN",
        "outputId": "4498b4e8-364d-430c-cc9e-e71edb54b1a4"
      },
      "execution_count": null,
      "outputs": [
        {
          "output_type": "execute_result",
          "data": {
            "text/plain": [
              "(8, 1, 36)"
            ]
          },
          "metadata": {},
          "execution_count": 54
        }
      ]
    },
    {
      "cell_type": "markdown",
      "source": [
        "**Matrix**"
      ],
      "metadata": {
        "id": "leYRS74D6QWW"
      }
    },
    {
      "cell_type": "code",
      "source": [
        "mx = [\n",
        "      [1,2,3],\n",
        "      [4,5,6], [7,8,9]\n",
        "]\n",
        "print(mx)"
      ],
      "metadata": {
        "colab": {
          "base_uri": "https://localhost:8080/"
        },
        "id": "O9IIPD0F6TMu",
        "outputId": "b286dcbb-1332-411e-d835-ef9dbc149623"
      },
      "execution_count": null,
      "outputs": [
        {
          "output_type": "stream",
          "name": "stdout",
          "text": [
            "[[1, 2, 3], [4, 5, 6], [7, 8, 9]]\n"
          ]
        }
      ]
    },
    {
      "cell_type": "code",
      "source": [
        "print(len(mx))"
      ],
      "metadata": {
        "colab": {
          "base_uri": "https://localhost:8080/"
        },
        "id": "tW0JDvE33mtf",
        "outputId": "bc6f8038-0d25-4460-c1fd-c323d8992ae9"
      },
      "execution_count": null,
      "outputs": [
        {
          "output_type": "stream",
          "name": "stdout",
          "text": [
            "3\n"
          ]
        }
      ]
    },
    {
      "cell_type": "code",
      "source": [
        "mx[0], mx[1], mx[2]"
      ],
      "metadata": {
        "colab": {
          "base_uri": "https://localhost:8080/"
        },
        "id": "7L-0Hgjs2A0Y",
        "outputId": "fdb5717d-d2e8-4ae5-c0a0-b78f82cc525f"
      },
      "execution_count": null,
      "outputs": [
        {
          "output_type": "execute_result",
          "data": {
            "text/plain": [
              "([1, 2, 3], [4, 5, 6], [7, 8, 9])"
            ]
          },
          "metadata": {},
          "execution_count": 57
        }
      ]
    },
    {
      "cell_type": "code",
      "source": [
        "name = 'Ankur'\n",
        "name_li = list(name) ## string to list\n",
        "print(name_li)"
      ],
      "metadata": {
        "id": "yuaXQhlm9t19",
        "colab": {
          "base_uri": "https://localhost:8080/"
        },
        "outputId": "f596b608-5446-44b5-ec0f-5aa84e49cc90"
      },
      "execution_count": null,
      "outputs": [
        {
          "output_type": "stream",
          "name": "stdout",
          "text": [
            "['A', 'n', 'k', 'u', 'r']\n"
          ]
        }
      ]
    },
    {
      "cell_type": "code",
      "source": [
        "num = (list(range(1,50,3)))\n",
        "print(num)"
      ],
      "metadata": {
        "colab": {
          "base_uri": "https://localhost:8080/"
        },
        "id": "Y86xGq-H3yQD",
        "outputId": "0d985ec7-832b-43ad-efc1-4bfab37e1037"
      },
      "execution_count": null,
      "outputs": [
        {
          "output_type": "stream",
          "name": "stdout",
          "text": [
            "[1, 4, 7, 10, 13, 16, 19, 22, 25, 28, 31, 34, 37, 40, 43, 46, 49]\n"
          ]
        }
      ]
    },
    {
      "cell_type": "code",
      "source": [
        "sum(num) ## sum of the numbers in the list"
      ],
      "metadata": {
        "colab": {
          "base_uri": "https://localhost:8080/"
        },
        "id": "4Ri7EM4e4AEO",
        "outputId": "77e9cfe8-1458-4b8a-8410-a9e59894bfde"
      },
      "execution_count": null,
      "outputs": [
        {
          "output_type": "execute_result",
          "data": {
            "text/plain": [
              "425"
            ]
          },
          "metadata": {},
          "execution_count": 60
        }
      ]
    },
    {
      "cell_type": "code",
      "source": [
        "num1 = num.sort()\n",
        "print(num1)\n",
        "print(num.reverse())\n",
        "num"
      ],
      "metadata": {
        "colab": {
          "base_uri": "https://localhost:8080/"
        },
        "id": "GreSFLhi4nG2",
        "outputId": "26b8d40d-5095-4a6c-ac3d-041843932a3f"
      },
      "execution_count": null,
      "outputs": [
        {
          "output_type": "stream",
          "name": "stdout",
          "text": [
            "None\n",
            "None\n"
          ]
        },
        {
          "output_type": "execute_result",
          "data": {
            "text/plain": [
              "[49, 46, 43, 40, 37, 34, 31, 28, 25, 22, 19, 16, 13, 10, 7, 4, 1]"
            ]
          },
          "metadata": {},
          "execution_count": 61
        }
      ]
    },
    {
      "cell_type": "markdown",
      "source": [
        "**Dictionaries**"
      ],
      "metadata": {
        "id": "FV6dZAWz6IwR"
      }
    },
    {
      "cell_type": "code",
      "source": [
        "my_dict = {'name': 'Ankur', 'ages': 30, 'college': 'IIT', 'laptop':['mac', 'hp'], 'relationship':True}"
      ],
      "metadata": {
        "id": "kNW7r5A15juB"
      },
      "execution_count": null,
      "outputs": []
    },
    {
      "cell_type": "code",
      "source": [
        "len(my_dict), my_dict['relationship'], list(my_dict.keys()), list(my_dict.values()), bool(my_dict['relationship'])"
      ],
      "metadata": {
        "colab": {
          "base_uri": "https://localhost:8080/"
        },
        "id": "t9GGsdhW6sjs",
        "outputId": "ba3f7480-600c-4b63-b4f2-760ff135fbae"
      },
      "execution_count": null,
      "outputs": [
        {
          "output_type": "execute_result",
          "data": {
            "text/plain": [
              "(5,\n",
              " True,\n",
              " ['name', 'ages', 'college', 'laptop', 'relationship'],\n",
              " ['Ankur', 30, 'IIT', ['mac', 'hp'], True],\n",
              " True)"
            ]
          },
          "metadata": {},
          "execution_count": 63
        }
      ]
    },
    {
      "cell_type": "code",
      "source": [
        "my_dict.get('age', 'no age key but its ages') ## return none (if second param given it will return that) if age key doesnot exist. in this way we can avoid error in the code"
      ],
      "metadata": {
        "colab": {
          "base_uri": "https://localhost:8080/",
          "height": 57
        },
        "id": "H8lmziMY6vrX",
        "outputId": "76a20346-61b6-49ef-abc9-627cb8cbd7b0"
      },
      "execution_count": null,
      "outputs": [
        {
          "output_type": "execute_result",
          "data": {
            "application/vnd.google.colaboratory.intrinsic+json": {
              "type": "string"
            },
            "text/plain": [
              "'no age key but its ages'"
            ]
          },
          "metadata": {},
          "execution_count": 64
        }
      ]
    },
    {
      "cell_type": "code",
      "source": [
        "my_dict.pop('name', None)\n",
        "my_dict"
      ],
      "metadata": {
        "colab": {
          "base_uri": "https://localhost:8080/"
        },
        "id": "jqOFYmaW7h_k",
        "outputId": "a8a82148-e3b5-44a6-dcdc-6c6a3d113d83"
      },
      "execution_count": null,
      "outputs": [
        {
          "output_type": "execute_result",
          "data": {
            "text/plain": [
              "{'ages': 30, 'college': 'IIT', 'laptop': ['mac', 'hp'], 'relationship': True}"
            ]
          },
          "metadata": {},
          "execution_count": 65
        }
      ]
    },
    {
      "cell_type": "code",
      "source": [
        "my_dict.update({'names':['Ankur', 'Anmol']})\n",
        "my_dict"
      ],
      "metadata": {
        "colab": {
          "base_uri": "https://localhost:8080/"
        },
        "id": "6Cpunl-b8dr8",
        "outputId": "145a6891-9d19-4174-ebf8-42340e105345"
      },
      "execution_count": null,
      "outputs": [
        {
          "output_type": "execute_result",
          "data": {
            "text/plain": [
              "{'ages': 30,\n",
              " 'college': 'IIT',\n",
              " 'laptop': ['mac', 'hp'],\n",
              " 'names': ['Ankur', 'Anmol'],\n",
              " 'relationship': True}"
            ]
          },
          "metadata": {},
          "execution_count": 66
        }
      ]
    },
    {
      "cell_type": "code",
      "source": [
        "list1 = ['Ankur', 'Anmol', 'Amar', 'Eshu']\n",
        "list2 = [30, 28, 25, 18]\n",
        "print(zip(list1, list2))"
      ],
      "metadata": {
        "colab": {
          "base_uri": "https://localhost:8080/"
        },
        "id": "N5hj_hky9MVH",
        "outputId": "bed59802-0b25-4ce1-fe0d-8503a1303cbb"
      },
      "execution_count": null,
      "outputs": [
        {
          "output_type": "stream",
          "name": "stdout",
          "text": [
            "<zip object at 0x7fc8c59a0690>\n"
          ]
        }
      ]
    },
    {
      "cell_type": "code",
      "source": [
        "new_dict = dict(zip(list1, list2)) ## Creates a dictionary from two collections\n",
        "print(new_dict)"
      ],
      "metadata": {
        "colab": {
          "base_uri": "https://localhost:8080/"
        },
        "id": "VWFBb2hk-CGh",
        "outputId": "c25b0c05-935f-4f33-e457-be43860cdc32"
      },
      "execution_count": null,
      "outputs": [
        {
          "output_type": "stream",
          "name": "stdout",
          "text": [
            "{'Ankur': 30, 'Anmol': 28, 'Amar': 25, 'Eshu': 18}\n"
          ]
        }
      ]
    },
    {
      "cell_type": "markdown",
      "source": [
        "**Logical Operators**"
      ],
      "metadata": {
        "id": "L-YaFhxLA4X0"
      }
    },
    {
      "cell_type": "code",
      "source": [
        "1 not in [2,3,4], not True, 1 is not 4, 4>1 and 5<10, 6<1 or 10>5"
      ],
      "metadata": {
        "colab": {
          "base_uri": "https://localhost:8080/"
        },
        "id": "CCxOP6tW-7Q9",
        "outputId": "bacd97b7-1207-47af-eb96-edb9e266b884"
      },
      "execution_count": null,
      "outputs": [
        {
          "output_type": "execute_result",
          "data": {
            "text/plain": [
              "(True, False, True, True, True)"
            ]
          },
          "metadata": {},
          "execution_count": 69
        }
      ]
    },
    {
      "cell_type": "code",
      "source": [
        "# if <condition that evaluates to boolean (means if statement only need True or False)>:\n",
        "    # perform action 1\n",
        "# elif <condition that evaluates to boolean (means if statement only need True or False)>:\n",
        "    # perform action 2\n",
        "# else:\n",
        "    # perform action 3\n",
        "\n",
        "\n",
        "# Truthy and Falsy (empty string, 0, 0.0, empty list, tuple, dictionary, set etc.)"
      ],
      "metadata": {
        "id": "4O1lrZcyI9oA"
      },
      "execution_count": null,
      "outputs": []
    },
    {
      "cell_type": "markdown",
      "source": [
        "*Coding Exercise*"
      ],
      "metadata": {
        "id": "1FIxpjWMOE0r"
      }
    },
    {
      "cell_type": "code",
      "source": [
        "is_mag = False\n",
        "is_ex = True\n",
        "\n",
        "if is_mag and is_ex:\n",
        "  print('you are a master magician')\n",
        "elif is_mag and not is_ex:\n",
        "  print('atleast you\\'re getting there')\n",
        "elif not is_mag:\n",
        "  print('you need magic power')\n",
        "else:\n",
        "  print('we don\\'t know')"
      ],
      "metadata": {
        "colab": {
          "base_uri": "https://localhost:8080/"
        },
        "id": "VPFEccreJhLY",
        "outputId": "d8196953-e11b-4b5f-facc-68450a9f8427"
      },
      "execution_count": null,
      "outputs": [
        {
          "output_type": "stream",
          "name": "stdout",
          "text": [
            "you need magic power\n"
          ]
        }
      ]
    },
    {
      "cell_type": "code",
      "source": [
        "## is vs == , 'is' is used to compare the exact memory location  of two things \n",
        "# while == is used to compare the values of two things"
      ],
      "metadata": {
        "id": "3suLbcE3NNA1"
      },
      "execution_count": null,
      "outputs": []
    },
    {
      "cell_type": "markdown",
      "source": [
        "**Loops**"
      ],
      "metadata": {
        "id": "ri3CI3OmQZZZ"
      }
    },
    {
      "cell_type": "code",
      "source": [
        "for items in 'Ankur Tiwari':  ## for works on iterables or collection of items(strings, set, lists, range, dictionary, tuples) not on one integer\n",
        "  print(items)"
      ],
      "metadata": {
        "colab": {
          "base_uri": "https://localhost:8080/"
        },
        "id": "SXrLBDm6QbXO",
        "outputId": "1be50399-351e-4c07-da25-214b37101e96"
      },
      "execution_count": null,
      "outputs": [
        {
          "output_type": "stream",
          "name": "stdout",
          "text": [
            "A\n",
            "n\n",
            "k\n",
            "u\n",
            "r\n",
            " \n",
            "T\n",
            "i\n",
            "w\n",
            "a\n",
            "r\n",
            "i\n"
          ]
        }
      ]
    },
    {
      "cell_type": "code",
      "source": [
        "for items in 'Ankur Tiwari':\n",
        "  \n",
        "  if items in 'Anmol':\n",
        "    print(items)\n",
        "  else:\n",
        "    print('mol')\n"
      ],
      "metadata": {
        "colab": {
          "base_uri": "https://localhost:8080/"
        },
        "id": "SCj-t9liQgIz",
        "outputId": "3bdde4c7-cd3f-467d-e4c9-bc6254b8ebd0"
      },
      "execution_count": null,
      "outputs": [
        {
          "output_type": "stream",
          "name": "stdout",
          "text": [
            "A\n",
            "n\n",
            "mol\n",
            "mol\n",
            "mol\n",
            "mol\n",
            "mol\n",
            "mol\n",
            "mol\n",
            "mol\n",
            "mol\n",
            "mol\n"
          ]
        }
      ]
    },
    {
      "cell_type": "code",
      "source": [
        "## using for loops we can do two things-\n",
        "## a) we can perform some action (number of items in the iterable = number of time the action will be performed)\n",
        "## b) we can extract the items itself from the iterables (strings, tuples, list, dictionaries, sets)."
      ],
      "metadata": {
        "id": "XRekaIMQRnOq"
      },
      "execution_count": null,
      "outputs": []
    },
    {
      "cell_type": "code",
      "source": [
        "my_dict"
      ],
      "metadata": {
        "colab": {
          "base_uri": "https://localhost:8080/"
        },
        "id": "UhMNnDNMUs7Z",
        "outputId": "c7f2fc9e-9fd9-4060-d971-4fcc53b7a696"
      },
      "execution_count": null,
      "outputs": [
        {
          "output_type": "execute_result",
          "data": {
            "text/plain": [
              "{'ages': 30,\n",
              " 'college': 'IIT',\n",
              " 'laptop': ['mac', 'hp'],\n",
              " 'names': ['Ankur', 'Anmol'],\n",
              " 'relationship': True}"
            ]
          },
          "metadata": {},
          "execution_count": 76
        }
      ]
    },
    {
      "cell_type": "code",
      "source": [
        "for items in my_dict.values(): ## this gives us the values of dictionaries\n",
        "  print(items)\n"
      ],
      "metadata": {
        "colab": {
          "base_uri": "https://localhost:8080/"
        },
        "id": "pl-bvvv0WYLO",
        "outputId": "f9b493b9-1401-4b40-c3b3-3ccce638cf53"
      },
      "execution_count": null,
      "outputs": [
        {
          "output_type": "stream",
          "name": "stdout",
          "text": [
            "30\n",
            "IIT\n",
            "['mac', 'hp']\n",
            "True\n",
            "['Ankur', 'Anmol']\n"
          ]
        }
      ]
    },
    {
      "cell_type": "code",
      "source": [
        "for items in my_dict: ## this gives us the keys of dictionaries or we can also write my_dict.keys()\n",
        "  print(items)"
      ],
      "metadata": {
        "colab": {
          "base_uri": "https://localhost:8080/"
        },
        "id": "VL3WxuC8Wc98",
        "outputId": "9ac26c8d-1bff-4af5-a583-b984b8bb36f3"
      },
      "execution_count": null,
      "outputs": [
        {
          "output_type": "stream",
          "name": "stdout",
          "text": [
            "ages\n",
            "college\n",
            "laptop\n",
            "relationship\n",
            "names\n"
          ]
        }
      ]
    },
    {
      "cell_type": "code",
      "source": [
        "for items in my_dict.items(): ## this gives us the values of key, value pair in tuples\n",
        "  print(items)"
      ],
      "metadata": {
        "colab": {
          "base_uri": "https://localhost:8080/"
        },
        "id": "Jiy_dTkNXmt0",
        "outputId": "8c5e64c6-d035-45ff-b95e-1bb008ccfac2"
      },
      "execution_count": null,
      "outputs": [
        {
          "output_type": "stream",
          "name": "stdout",
          "text": [
            "('ages', 30)\n",
            "('college', 'IIT')\n",
            "('laptop', ['mac', 'hp'])\n",
            "('relationship', True)\n",
            "('names', ['Ankur', 'Anmol'])\n"
          ]
        }
      ]
    },
    {
      "cell_type": "code",
      "source": [
        "for keys, values in my_dict.items(): ## this gives us the keys and values \n",
        "  print(keys, values)"
      ],
      "metadata": {
        "colab": {
          "base_uri": "https://localhost:8080/"
        },
        "id": "Xrc2j5h2Xsv7",
        "outputId": "695f85bb-104c-40f3-dc44-80b018ca9368"
      },
      "execution_count": null,
      "outputs": [
        {
          "output_type": "stream",
          "name": "stdout",
          "text": [
            "ages 30\n",
            "college IIT\n",
            "laptop ['mac', 'hp']\n",
            "relationship True\n",
            "names ['Ankur', 'Anmol']\n"
          ]
        }
      ]
    },
    {
      "cell_type": "markdown",
      "source": [
        "*Coding Exercise*"
      ],
      "metadata": {
        "id": "vspajY1caOVQ"
      }
    },
    {
      "cell_type": "code",
      "source": [
        "## Code gives sum and count of items in the list\n",
        "my_list = [1,2,3,4,5,6,7,8,9,10] \n",
        "sum = 0\n",
        "count = 0\n",
        "for items in my_list:\n",
        "  count = count+1\n",
        "  sum = sum+items\n",
        "print(sum) ## this print is outside the loop because we dont want it to loop over rather we only want to print result just once\n",
        "print(count)"
      ],
      "metadata": {
        "colab": {
          "base_uri": "https://localhost:8080/"
        },
        "id": "jXi2cyNIY7c8",
        "outputId": "4caaab53-9427-4b93-a27f-30f146adc48a"
      },
      "execution_count": null,
      "outputs": [
        {
          "output_type": "stream",
          "name": "stdout",
          "text": [
            "55\n",
            "10\n"
          ]
        }
      ]
    },
    {
      "cell_type": "code",
      "source": [
        "for i, items in enumerate('Ankur Tiwari'): ## both index and items can be extracted using enumerate\n",
        "  print(i, items)"
      ],
      "metadata": {
        "colab": {
          "base_uri": "https://localhost:8080/"
        },
        "id": "itFSmO2yZcrj",
        "outputId": "3b04e7ee-a873-448b-a0f7-00a82b859c29"
      },
      "execution_count": null,
      "outputs": [
        {
          "output_type": "stream",
          "name": "stdout",
          "text": [
            "0 A\n",
            "1 n\n",
            "2 k\n",
            "3 u\n",
            "4 r\n",
            "5  \n",
            "6 T\n",
            "7 i\n",
            "8 w\n",
            "9 a\n",
            "10 r\n",
            "11 i\n"
          ]
        }
      ]
    },
    {
      "cell_type": "markdown",
      "source": [
        "*Coding Exercise*"
      ],
      "metadata": {
        "id": "0wER4AIgdOoD"
      }
    },
    {
      "cell_type": "code",
      "source": [
        "## find the index of 50\n",
        "numbs = range(100)\n",
        "num_list = list(numbs)\n",
        "for i, items in enumerate(num_list):\n",
        "  if items == 50:\n",
        "    print(i, items)\n",
        "  "
      ],
      "metadata": {
        "colab": {
          "base_uri": "https://localhost:8080/"
        },
        "id": "cYjJifmuc1JF",
        "outputId": "2b55b290-475b-4637-80de-4a792884ae86"
      },
      "execution_count": null,
      "outputs": [
        {
          "output_type": "stream",
          "name": "stdout",
          "text": [
            "50 50\n"
          ]
        }
      ]
    },
    {
      "cell_type": "markdown",
      "source": [
        "**While loop**"
      ],
      "metadata": {
        "id": "7e8NHPGYii5B"
      }
    },
    {
      "cell_type": "code",
      "source": [
        "i = 0\n",
        "while i < 10: # condition\n",
        "  print(i)\n",
        "  i = i+1\n",
        "else:\n",
        "  print('Done with the work')\n",
        "\n",
        "## to come out of the while loop we can either make the condition false or we can use break."
      ],
      "metadata": {
        "colab": {
          "base_uri": "https://localhost:8080/"
        },
        "id": "YykGxaNydqMD",
        "outputId": "9644cd7e-a8ec-4724-a712-6188490e302c"
      },
      "execution_count": null,
      "outputs": [
        {
          "output_type": "stream",
          "name": "stdout",
          "text": [
            "0\n",
            "1\n",
            "2\n",
            "3\n",
            "4\n",
            "5\n",
            "6\n",
            "7\n",
            "8\n",
            "9\n",
            "Done with the work\n"
          ]
        }
      ]
    },
    {
      "cell_type": "code",
      "source": [
        "while True:\n",
        "  response = input('say something: ')\n",
        "  if response == 'bye':\n",
        "    break\n",
        " "
      ],
      "metadata": {
        "colab": {
          "base_uri": "https://localhost:8080/"
        },
        "id": "hDdzOeF9j2Rs",
        "outputId": "3ef4361a-c09a-4bd8-f589-0b49f83662e0"
      },
      "execution_count": null,
      "outputs": [
        {
          "name": "stdout",
          "output_type": "stream",
          "text": [
            "say something: hi\n",
            "say something: bye\n"
          ]
        }
      ]
    },
    {
      "cell_type": "markdown",
      "source": [
        "*Coding Exercise*"
      ],
      "metadata": {
        "id": "WlZ0Fb7Pm_wi"
      }
    },
    {
      "cell_type": "code",
      "source": [
        "## Looping through the image and a concept of printing in the same line using end param in print. we want to create 3tress so we used while loop \n",
        "trees = 1\n",
        "picture = [\n",
        "           [0,0,0,1,0,0,0],\n",
        "           [0,0,1,1,1,0,0],\n",
        "           [0,1,1,1,1,1,0],\n",
        "           [1,1,1,1,1,1,1],\n",
        "           [0,0,0,1,0,0,0],\n",
        "           [0,0,0,1,0,0,0]\n",
        "          ] \n",
        "while trees<=3:\n",
        "  for items in picture:\n",
        "    for ele in items:\n",
        "      if ele ==0:\n",
        "        print(' ', end = '') # for printing in the same line\n",
        "      elif ele==1:\n",
        "        print('*', end = '')\n",
        "    print('') # need a new line after every row because by default in print the end = '\\n'\n",
        "  trees = trees+1"
      ],
      "metadata": {
        "colab": {
          "base_uri": "https://localhost:8080/"
        },
        "id": "az-HqHsxlhE3",
        "outputId": "cd580455-0543-4e1b-c78d-e83fdb3cb9e8"
      },
      "execution_count": null,
      "outputs": [
        {
          "output_type": "stream",
          "name": "stdout",
          "text": [
            "   *   \n",
            "  ***  \n",
            " ***** \n",
            "*******\n",
            "   *   \n",
            "   *   \n",
            "   *   \n",
            "  ***  \n",
            " ***** \n",
            "*******\n",
            "   *   \n",
            "   *   \n",
            "   *   \n",
            "  ***  \n",
            " ***** \n",
            "*******\n",
            "   *   \n",
            "   *   \n"
          ]
        }
      ]
    },
    {
      "cell_type": "markdown",
      "source": [
        "*Coding Exercise*"
      ],
      "metadata": {
        "id": "w6-Nit8jBi4A"
      }
    },
    {
      "cell_type": "code",
      "source": [
        "## to find the duplicates\n",
        "\n",
        "dupl = ['a', 'b', 'c', 'b', 'd', 'm', 'n', 'n']\n",
        "new_list = []\n",
        "for items in dupl:\n",
        "  if dupl.count(items) > 1:\n",
        "    new_list.append(items)\n",
        "print(new_list)\n",
        "\n",
        "\n",
        "  "
      ],
      "metadata": {
        "colab": {
          "base_uri": "https://localhost:8080/"
        },
        "id": "An1Bkd6LoOT9",
        "outputId": "81726e9d-a5a8-4436-b92a-33bccf51a8ab"
      },
      "execution_count": null,
      "outputs": [
        {
          "output_type": "stream",
          "name": "stdout",
          "text": [
            "['b', 'b', 'n', 'n']\n"
          ]
        }
      ]
    },
    {
      "cell_type": "markdown",
      "source": [
        "**Functions**"
      ],
      "metadata": {
        "id": "kzHS_dOTBrJK"
      }
    },
    {
      "cell_type": "markdown",
      "source": [
        "It is used where we don't want to repeat the code. It either returns something or modifies something in our program."
      ],
      "metadata": {
        "id": "EvrrjjEVD_ER"
      }
    },
    {
      "cell_type": "code",
      "source": [
        "def sum(a,b):\n",
        "  c = a+b\n",
        "  print(c)\n",
        "\n",
        " \n",
        "\n"
      ],
      "metadata": {
        "id": "usy88_G__d-X"
      },
      "execution_count": null,
      "outputs": []
    },
    {
      "cell_type": "code",
      "source": [
        "sum(4,5)"
      ],
      "metadata": {
        "colab": {
          "base_uri": "https://localhost:8080/"
        },
        "id": "G8TAmEp1CKlK",
        "outputId": "4af76433-d301-4c0a-a59d-7005c044c76d"
      },
      "execution_count": null,
      "outputs": [
        {
          "output_type": "stream",
          "name": "stdout",
          "text": [
            "9\n"
          ]
        }
      ]
    },
    {
      "cell_type": "code",
      "source": [
        "## Use of docstring is write comment in the function or tell others/co-workers/team what this function does.\n",
        "\n",
        "def Ankur():\n",
        "  '''\n",
        "  This function tells us how one should be persistent.\n",
        "  '''\n",
        "  print('Never stop learning in your life')"
      ],
      "metadata": {
        "id": "I4AyXbeyCWKa"
      },
      "execution_count": null,
      "outputs": []
    },
    {
      "cell_type": "code",
      "source": [
        "Ankur()"
      ],
      "metadata": {
        "colab": {
          "base_uri": "https://localhost:8080/"
        },
        "id": "WgMmFqgKCnh9",
        "outputId": "547cf81c-efba-446d-81f6-d07d428c013e"
      },
      "execution_count": null,
      "outputs": [
        {
          "output_type": "stream",
          "name": "stdout",
          "text": [
            "Never stop learning in your life\n"
          ]
        }
      ]
    },
    {
      "cell_type": "code",
      "source": [
        "help(print) ## help is use to find out what a function does"
      ],
      "metadata": {
        "id": "cT9hyi74CqQX"
      },
      "execution_count": null,
      "outputs": []
    },
    {
      "cell_type": "code",
      "source": [
        "## to find even or od\n",
        "\n",
        "def isodd_or_iseven(num):\n",
        "  if num%2==0 or num==0:\n",
        "    print(f'{num} is even.')\n",
        "  else:\n",
        "    print(f'{num} is odd.')"
      ],
      "metadata": {
        "id": "LKqeCbQoDMef"
      },
      "execution_count": null,
      "outputs": []
    },
    {
      "cell_type": "code",
      "source": [
        "isodd_or_iseven(1893537)"
      ],
      "metadata": {
        "colab": {
          "base_uri": "https://localhost:8080/"
        },
        "id": "tPXngFDUD_bB",
        "outputId": "19d931ef-220f-4031-9c8a-a8af99229501"
      },
      "execution_count": null,
      "outputs": [
        {
          "output_type": "stream",
          "name": "stdout",
          "text": [
            "1893537 is odd.\n"
          ]
        }
      ]
    },
    {
      "cell_type": "code",
      "source": [
        "## *args and **kwargs\n",
        "\n",
        "def super_fuct(*args): ## if we add *in from argument then the fuction may take as many number of argument we want.\n",
        "  print(args)\n",
        "  return max(args)\n"
      ],
      "metadata": {
        "id": "43Uzg1NDECNg"
      },
      "execution_count": null,
      "outputs": []
    },
    {
      "cell_type": "code",
      "source": [
        "super_fuct(1,2,3,4,5)"
      ],
      "metadata": {
        "colab": {
          "base_uri": "https://localhost:8080/"
        },
        "id": "WbK6JNdWFXdX",
        "outputId": "a1f1637d-a666-4293-e140-124b233b8c4d"
      },
      "execution_count": null,
      "outputs": [
        {
          "output_type": "stream",
          "name": "stdout",
          "text": [
            "(1, 2, 3, 4, 5)\n"
          ]
        },
        {
          "output_type": "execute_result",
          "data": {
            "text/plain": [
              "5"
            ]
          },
          "metadata": {},
          "execution_count": 108
        }
      ]
    },
    {
      "cell_type": "markdown",
      "source": [
        "*Coding Exercise*"
      ],
      "metadata": {
        "id": "1N6pnUATGwAh"
      }
    },
    {
      "cell_type": "code",
      "source": [
        "## find the highest even in the list\n",
        "\n",
        "def highest_even(li):\n",
        "  even = []\n",
        "  for items in li:\n",
        "    if items%2==0:\n",
        "      even.append(items)\n",
        "  return max(even)\n",
        "  \n"
      ],
      "metadata": {
        "id": "GojxkwQMFiWl"
      },
      "execution_count": null,
      "outputs": []
    },
    {
      "cell_type": "code",
      "source": [
        "li = [1,2,4,5,6,8,10,11,13,100]\n",
        "highest_even(li)"
      ],
      "metadata": {
        "colab": {
          "base_uri": "https://localhost:8080/"
        },
        "id": "ZO_mOrc6HJw8",
        "outputId": "7097178b-b32a-4b70-9d41-c264e3a6334d"
      },
      "execution_count": null,
      "outputs": [
        {
          "output_type": "execute_result",
          "data": {
            "text/plain": [
              "100"
            ]
          },
          "metadata": {},
          "execution_count": 119
        }
      ]
    },
    {
      "cell_type": "code",
      "source": [
        "## map function ## map(function, iterable on which that fuction will be applied)\n",
        "\n",
        "def mult_by2(li):\n",
        "  return li*2\n",
        "\n",
        "li = [1,2,3]\n",
        "print(list(map(mult_by2, li )))\n",
        "print(li)\n"
      ],
      "metadata": {
        "colab": {
          "base_uri": "https://localhost:8080/"
        },
        "id": "zgLE3i1GH_jT",
        "outputId": "c988662f-d49e-4471-fd64-19c8d2973b66"
      },
      "execution_count": null,
      "outputs": [
        {
          "output_type": "stream",
          "name": "stdout",
          "text": [
            "[2, 4, 6]\n",
            "[1, 2, 3]\n"
          ]
        }
      ]
    },
    {
      "cell_type": "code",
      "source": [
        "## filter function\n",
        "\n",
        "def only_odd(li):\n",
        "  if li%2 != 0:\n",
        "    return li\n",
        "\n",
        "print(list(filter(only_odd, li)))"
      ],
      "metadata": {
        "colab": {
          "base_uri": "https://localhost:8080/"
        },
        "id": "9XwZyhO2Qelr",
        "outputId": "fdf58cba-6a59-429f-d5ca-63d2b6d6ba76"
      },
      "execution_count": null,
      "outputs": [
        {
          "output_type": "stream",
          "name": "stdout",
          "text": [
            "[1, 3]\n"
          ]
        }
      ]
    },
    {
      "cell_type": "code",
      "source": [
        "## zip function takes to any iteratble as param and zip them\n",
        "\n",
        "list1 = [1,2,3]\n",
        "list2 = [5,6,7]\n",
        "\n",
        "print(dict(zip(list1, list2)))"
      ],
      "metadata": {
        "colab": {
          "base_uri": "https://localhost:8080/"
        },
        "id": "4YrkG_aaSh49",
        "outputId": "cfff3c0d-a9ba-4d48-fa9b-ade46c8c1132"
      },
      "execution_count": null,
      "outputs": [
        {
          "output_type": "stream",
          "name": "stdout",
          "text": [
            "{1: 5, 2: 6, 3: 7}\n"
          ]
        }
      ]
    },
    {
      "cell_type": "code",
      "source": [
        "## just a for loop applied on dictionary\n",
        "\n",
        "for item in dict(zip(list1, list2)).values():\n",
        "  print(item)"
      ],
      "metadata": {
        "colab": {
          "base_uri": "https://localhost:8080/"
        },
        "id": "EYNsg1oITaIa",
        "outputId": "72f598aa-1be0-4a04-c561-59799d4c09b7"
      },
      "execution_count": null,
      "outputs": [
        {
          "output_type": "stream",
          "name": "stdout",
          "text": [
            "5\n",
            "6\n",
            "7\n"
          ]
        }
      ]
    },
    {
      "cell_type": "code",
      "source": [
        "## List, set, sictionary comrehension\n",
        "\n",
        "list = []\n",
        "for item in 'Ankur':\n",
        "  list.append(item)\n",
        "print(list)"
      ],
      "metadata": {
        "colab": {
          "base_uri": "https://localhost:8080/"
        },
        "id": "zWc1yr1GTxXi",
        "outputId": "fdcd196c-ddcd-4d4c-d34c-cd1f8a5e3593"
      },
      "execution_count": null,
      "outputs": [
        {
          "output_type": "stream",
          "name": "stdout",
          "text": [
            "['A', 'n', 'k', 'u', 'r']\n"
          ]
        }
      ]
    },
    {
      "cell_type": "code",
      "source": [
        "# so instead of doing this long process we can use list comprehension\n",
        "\n",
        "## list = [expression for loop condition]\n",
        "## list4 = [num**2 for num in range(0,100) if num % 2 ==0]\n",
        "\n",
        "list1 = [list for list in 'Ankur']  ## [param for param in iterable]\n",
        "list2 = [li for li in range(0,10)]\n",
        "list1, list2"
      ],
      "metadata": {
        "colab": {
          "base_uri": "https://localhost:8080/"
        },
        "id": "IWw9Hdf9W3HK",
        "outputId": "ba5cf59d-7491-4fef-c3b2-3e343f3331d3"
      },
      "execution_count": null,
      "outputs": [
        {
          "output_type": "execute_result",
          "data": {
            "text/plain": [
              "(['A', 'n', 'k', 'u', 'r'], [0, 1, 2, 3, 4, 5, 6, 7, 8, 9])"
            ]
          },
          "metadata": {},
          "execution_count": 156
        }
      ]
    },
    {
      "cell_type": "code",
      "source": [
        "list2 = [li for li in (map(mult_by2,range(0,10)))]  ## list multiplied by 2\n",
        "list2"
      ],
      "metadata": {
        "colab": {
          "base_uri": "https://localhost:8080/"
        },
        "id": "7UNPTVsrXEzz",
        "outputId": "8cb80e52-57a1-4a02-e6aa-d84022112a56"
      },
      "execution_count": null,
      "outputs": [
        {
          "output_type": "execute_result",
          "data": {
            "text/plain": [
              "[0, 2, 4, 6, 8, 10, 12, 14, 16, 18]"
            ]
          },
          "metadata": {},
          "execution_count": 155
        }
      ]
    },
    {
      "cell_type": "code",
      "source": [
        ""
      ],
      "metadata": {
        "id": "8qmV3TjPX3Cy"
      },
      "execution_count": null,
      "outputs": []
    }
  ]
}